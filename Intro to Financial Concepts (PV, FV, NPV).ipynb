{
  "nbformat": 4,
  "nbformat_minor": 0,
  "metadata": {
    "colab": {
      "name": "Intro to Financial Concepts (PV, FV, NPV).ipynb",
      "version": "0.3.2",
      "provenance": [],
      "toc_visible": true,
      "include_colab_link": true
    },
    "kernelspec": {
      "name": "python3",
      "display_name": "Python 3"
    }
  },
  "cells": [
    {
      "cell_type": "markdown",
      "metadata": {
        "id": "view-in-github",
        "colab_type": "text"
      },
      "source": [
        "<a href=\"https://colab.research.google.com/github/tanatiem/Finance-with-Python/blob/master/Intro%20to%20Financial%20Concepts%20(PV%2C%20FV%2C%20NPV).ipynb\" target=\"_parent\"><img src=\"https://colab.research.google.com/assets/colab-badge.svg\" alt=\"Open In Colab\"/></a>"
      ]
    },
    {
      "metadata": {
        "id": "2owXMrcTUiJG",
        "colab_type": "text"
      },
      "cell_type": "markdown",
      "source": [
        "# The Time Value of Money"
      ]
    },
    {
      "metadata": {
        "id": "ytKuLurHp3Oq",
        "colab_type": "text"
      },
      "cell_type": "markdown",
      "source": [
        "##Return on Investment\n",
        "$$v_{t_2} = v_{t_1} * (1 + r)$$\n",
        "\n",
        "\n",
        "- $v_{t_1}$: The initial value of the investment at time 1\n",
        "- $v_{t_2}$: The initial value of the investment at time 2\n",
        "- *r*: The rate of return of the investment per period t"
      ]
    },
    {
      "metadata": {
        "id": "PWL1grBmRPxX",
        "colab_type": "text"
      },
      "cell_type": "markdown",
      "source": [
        "## Cumulative Growth (or Depreciation)\n",
        "\n",
        "$$ Investment Value = v_{t_0} * (1 + r)^t$$\n",
        "\n",
        "- *r*: The investment's expected rate of return (growth rate)\n",
        "- *t*: The lifespan of the investment (time)\n",
        "- $v_{t_0}$: The initial value of the investment at time 0\n",
        "\n",
        "\n",
        "If the growth rate r is negative, the investment's value will depreciate (shrink) over time."
      ]
    },
    {
      "metadata": {
        "id": "RaIqimgERWmY",
        "colab_type": "code",
        "cellView": "both",
        "outputId": "6a226f56-10a5-4b71-ec6d-a6d19821f2d8",
        "colab": {
          "base_uri": "https://localhost:8080/",
          "height": 35
        }
      },
      "cell_type": "code",
      "source": [
        "investment = 100\n",
        "years = 30\n",
        "return_rate = 0.06\n",
        "\n",
        "# Future value of the investment \n",
        "future_value = investment * (1 + return_rate)**years\n",
        "print('Future Value of ${} with {}% return in {} years = ${}'.format(\n",
        "    investment, return_rate*100, years, round(future_value,2)))"
      ],
      "execution_count": 0,
      "outputs": [
        {
          "output_type": "stream",
          "text": [
            "Future Value of $100 with 6.0% return in 30 years = $574.35\n"
          ],
          "name": "stdout"
        }
      ]
    },
    {
      "metadata": {
        "id": "N_jrgKn0UJnP",
        "colab_type": "text"
      },
      "cell_type": "markdown",
      "source": [
        "##Compound Interest\n",
        "\n",
        "$$Investment Value = v_{t_0} * (1 + \\frac{r}{c})^{t*c}$$\n",
        "\n",
        "\n",
        "- *r*: The investment's annual expected rate of return (growth rate)\n",
        "- *t*: The lifespan of the investment\n",
        "- $v_{t_0}$: The initial value of the investment at time 0\n",
        "- *c*: The number of **compounding periods per year**"
      ]
    },
    {
      "metadata": {
        "id": "kUICB-X91W-i",
        "colab_type": "code",
        "cellView": "both",
        "outputId": "11b12052-02a2-4796-8593-651c15fa6dc1",
        "colab": {
          "base_uri": "https://localhost:8080/",
          "height": 71
        }
      },
      "cell_type": "code",
      "source": [
        "initial_investment = 100\n",
        "growth_periods = 30\n",
        "growth_rate = 0.06\n",
        "\n",
        "def compound_interest(value, rate, periods, compound_periods):\n",
        "  return value * (1 + rate/compound_periods)**(periods*compound_periods)\n",
        "\n",
        "# Compouned yearly\n",
        "investment = compound_interest(initial_investment, growth_rate, \n",
        "                               growth_periods, 1)\n",
        "print('Investment compounded annually:  ${}'.format(round(investment,2)))\n",
        "\n",
        "# Compounded quarterly\n",
        "investment = compound_interest(initial_investment, growth_rate, \n",
        "                               growth_periods, 4)\n",
        "print('Investment compounded quarterly: ${}'.format(round(investment,2)))\n",
        "\n",
        "# Compounded monthly\n",
        "investment = compound_interest(initial_investment, growth_rate, \n",
        "                               growth_periods, 12)\n",
        "print('Investment compounded monthly:   ${}'.format(round(investment,2)))"
      ],
      "execution_count": 0,
      "outputs": [
        {
          "output_type": "stream",
          "text": [
            "Investment compounded annually:  $574.35\n",
            "Investment compounded quarterly: $596.93\n",
            "Investment compounded monthly:   $602.26\n"
          ],
          "name": "stdout"
        }
      ]
    },
    {
      "metadata": {
        "id": "2HjZO5Q67Vsn",
        "colab_type": "text"
      },
      "cell_type": "markdown",
      "source": [
        "##Discount Factors and Depreciation\n",
        "\n",
        "$$df = \\frac{1}{(1 + r)^t}$$\n",
        "$$ v = fv * df$$\n",
        "\n",
        "- df: Discount factor\n",
        "- r: The rate of depreciation per period t\n",
        "- t: Time periods\n",
        "- v: Initial value of the investment\n",
        "- Fv: Future value of the investment"
      ]
    },
    {
      "metadata": {
        "id": "-pQD156V9yPq",
        "colab_type": "code",
        "outputId": "c6c9e528-69d4-4e91-d0f7-c012841221e6",
        "colab": {
          "base_uri": "https://localhost:8080/",
          "height": 71
        }
      },
      "cell_type": "code",
      "source": [
        "# Calculate the future value\n",
        "initial_investment = 100\n",
        "growth_rate = -0.05\n",
        "growth_periods = 10\n",
        "\n",
        "future_value = initial_investment*(1 + growth_rate)**(growth_periods)\n",
        "print(\"Future value: \" + str(round(future_value, 2)))\n",
        "\n",
        "# Calculate the discount factor\n",
        "discount_factor = 1/((1 + growth_rate)**(growth_periods))\n",
        "print(\"Discount factor: \" + str(round(discount_factor, 2)))\n",
        "\n",
        "# Derive the initial value of the investment\n",
        "initial_investment_again = future_value * discount_factor\n",
        "print(\"Initial value: \" + str(round(initial_investment_again, 2)))"
      ],
      "execution_count": 0,
      "outputs": [
        {
          "output_type": "stream",
          "text": [
            "Future value: 59.87\n",
            "Discount factor: 1.67\n",
            "Initial value: 100.0\n"
          ],
          "name": "stdout"
        }
      ]
    },
    {
      "metadata": {
        "id": "PqLHwFk5S4eV",
        "colab_type": "text"
      },
      "cell_type": "markdown",
      "source": [
        "# Present and Future Value"
      ]
    },
    {
      "metadata": {
        "id": "-Z6rvZOet4fH",
        "colab_type": "text"
      },
      "cell_type": "markdown",
      "source": [
        "##Present Value\n",
        "\n",
        "Calculate the present value of $100 received 3 years from now at a 1.0% inflation rate.\n",
        "\n",
        "The present value is computed by solving the equation:\n",
        "\n",
        "$fv + pv*(1 + rate)^{nper} = 0$\n",
        "\n",
        "100 dollars in 3 years is a future value\n",
        "\n",
        "$pv = \\frac{-100}{(1 + 0.01)^3}$"
      ]
    },
    {
      "metadata": {
        "id": "8ZcG7m6WOD4I",
        "colab_type": "code",
        "outputId": "644326c1-3eb2-4eaa-de17-39931b7063cd",
        "colab": {
          "base_uri": "https://localhost:8080/",
          "height": 35
        }
      },
      "cell_type": "code",
      "source": [
        "-100 / (1 + 0.01)**3"
      ],
      "execution_count": 0,
      "outputs": [
        {
          "output_type": "execute_result",
          "data": {
            "text/plain": [
              "-97.05901479276443"
            ]
          },
          "metadata": {
            "tags": []
          },
          "execution_count": 14
        }
      ]
    },
    {
      "metadata": {
        "id": "L_ncgY3ct9cZ",
        "colab_type": "code",
        "outputId": "467fd1c5-ac69-4227-f417-d8049e3a6218",
        "colab": {
          "base_uri": "https://localhost:8080/",
          "height": 35
        }
      },
      "cell_type": "code",
      "source": [
        "import numpy as np\n",
        "np.pv(rate=0.01, nper=3, pmt=0, fv=100)"
      ],
      "execution_count": 0,
      "outputs": [
        {
          "output_type": "execute_result",
          "data": {
            "text/plain": [
              "-97.05901479276443"
            ]
          },
          "metadata": {
            "tags": []
          },
          "execution_count": 13
        }
      ]
    },
    {
      "metadata": {
        "id": "hpvJGJ4SRiaI",
        "colab_type": "text"
      },
      "cell_type": "markdown",
      "source": [
        "**Investment 1**: \n",
        "The present value of an investment which will yield $10,000 **15** years from now at an inflation rate of **3%** per year\n",
        "\n",
        "**Investment 2**: \n",
        "The present value of an investment which will yield $10,000 **10** years from now at an inflation rate of **5%** per year"
      ]
    },
    {
      "metadata": {
        "id": "AE51hZVgPaPg",
        "colab_type": "code",
        "outputId": "ac88d1ab-2623-421a-e2bc-22b81458dcc9",
        "colab": {
          "base_uri": "https://localhost:8080/",
          "height": 53
        }
      },
      "cell_type": "code",
      "source": [
        "# Calculate investment_1\n",
        "investment_1 = np.pv(rate=.03, nper=15, pmt=0, fv=10000)\n",
        "\n",
        "# Note that the present value returned is negative, so we multiply the result by -1\n",
        "print(\"Investment 1 is worth \" + str(round(-investment_1, 2)) + \" in today's dollars\")\n",
        "\n",
        "# Calculate investment_2\n",
        "investment_2 = np.pv(rate=.05, nper=10, pmt=0, fv=10000)\n",
        "print(\"Investment 2 is worth \" + str(round(-investment_2, 2)) + \" in today's dollars\")"
      ],
      "execution_count": 0,
      "outputs": [
        {
          "output_type": "stream",
          "text": [
            "Investment 1 is worth 6418.62 in today's dollars\n",
            "Investment 2 is worth 6139.13 in today's dollars\n"
          ],
          "name": "stdout"
        }
      ]
    },
    {
      "metadata": {
        "id": "rpQWQ1QHQNky",
        "colab_type": "text"
      },
      "cell_type": "markdown",
      "source": [
        "##Future Value\n",
        "Calculate the future value of a $100 invested for 3 years at a 5.0% average annual rate of return."
      ]
    },
    {
      "metadata": {
        "id": "rdcfFgnmQLJO",
        "colab_type": "code",
        "outputId": "c456ae6a-f23d-4d5c-8a26-132711ca3de4",
        "colab": {
          "base_uri": "https://localhost:8080/",
          "height": 35
        }
      },
      "cell_type": "code",
      "source": [
        "100 * (1 + 0.05)**3"
      ],
      "execution_count": 0,
      "outputs": [
        {
          "output_type": "execute_result",
          "data": {
            "text/plain": [
              "115.76250000000002"
            ]
          },
          "metadata": {
            "tags": []
          },
          "execution_count": 18
        }
      ]
    },
    {
      "metadata": {
        "id": "rjeUy71QT_Sn",
        "colab_type": "code",
        "outputId": "a2de86a6-b545-4047-8886-90e951966bf7",
        "colab": {
          "base_uri": "https://localhost:8080/",
          "height": 35
        }
      },
      "cell_type": "code",
      "source": [
        "np.fv(rate=0.05, nper=3, pmt=0, pv=-100)"
      ],
      "execution_count": 0,
      "outputs": [
        {
          "output_type": "execute_result",
          "data": {
            "text/plain": [
              "115.76250000000002"
            ]
          },
          "metadata": {
            "tags": []
          },
          "execution_count": 20
        }
      ]
    },
    {
      "metadata": {
        "id": "5CXHfKuigbK0",
        "colab_type": "text"
      },
      "cell_type": "markdown",
      "source": [
        "**Investment 1**: \n",
        "Calculate the future value of a $10,000 investment returning 5% per year for 15 years and assign it to investment_1.\n",
        "\n",
        "**Investment 2**\n",
        "Calculate the future value of a $10,000 investment returning 8% per year for 15 years and assign it to investment_2."
      ]
    },
    {
      "metadata": {
        "id": "d6ao_uUuUDeu",
        "colab_type": "code",
        "outputId": "2b8d9f24-6845-4289-9097-c635199eedf8",
        "colab": {
          "base_uri": "https://localhost:8080/",
          "height": 53
        }
      },
      "cell_type": "code",
      "source": [
        "# Caculate investment_1\n",
        "investment_1 = np.fv(rate=.05, nper=15, pmt=0, pv=-10000)\n",
        "print(\"Investment 1 will yield a total of $\" + str(round(investment_1, 2)) + \" in 15 years\")\n",
        "\n",
        "# Caculate investment_2\n",
        "investment_2 = np.fv(rate=.08, nper=15, pmt=0, pv=-10000)\n",
        "print(\"Investment 2 will yield a total of $\" + str(round(investment_2, 2)) + \" in 15 years\")"
      ],
      "execution_count": 0,
      "outputs": [
        {
          "output_type": "stream",
          "text": [
            "Investment 1 will yield a total of $20789.28 in 15 years\n",
            "Investment 2 will yield a total of $31721.69 in 15 years\n"
          ],
          "name": "stdout"
        }
      ]
    },
    {
      "metadata": {
        "id": "LAru5KiQgXvk",
        "colab_type": "text"
      },
      "cell_type": "markdown",
      "source": [
        "##Adjusting Future Values for Inflation\n",
        "Calculate the future value of a USD10,000 investment returning 8% per year for 10 years with an inflation rate of 3% per year."
      ]
    },
    {
      "metadata": {
        "id": "lW3nwSP3hWYE",
        "colab_type": "code",
        "outputId": "d312da24-d9fb-486e-bc3f-278a234e92c6",
        "colab": {
          "base_uri": "https://localhost:8080/",
          "height": 73
        }
      },
      "cell_type": "code",
      "source": [
        "# Calculate investment_1\n",
        "investment_1 = np.fv(rate=.08, nper=10, pmt=0, pv=-10000)\n",
        "print(\"Investment 1 will yield a total of $\" + str(round(investment_1, 2)) + \" in 10 years\")\n",
        "\n",
        "# Calculate investment_2\n",
        "investment_1_discounted = np.pv(rate=.03, nper=10, pmt=0, fv=investment_1)\n",
        "print(\"After adjusting for inflation, investment 1 is worth $\" + str(round(-investment_1_discounted, 2)) + \" in today's dollars\")"
      ],
      "execution_count": 0,
      "outputs": [
        {
          "output_type": "stream",
          "text": [
            "Investment 1 will yield a total of $21589.25 in 10 years\n",
            "After adjusting for inflation, investment 1 is worth $16064.43 in today's dollars\n"
          ],
          "name": "stdout"
        }
      ]
    },
    {
      "metadata": {
        "id": "a8kOskcihbh-",
        "colab_type": "text"
      },
      "cell_type": "markdown",
      "source": [
        "#Net Present Value and Cashflow\n"
      ]
    },
    {
      "metadata": {
        "id": "kMeAxAv1poxx",
        "colab_type": "text"
      },
      "cell_type": "markdown",
      "source": [
        "##Discounting Cash Flows"
      ]
    },
    {
      "metadata": {
        "id": "0wyVDnujk1uA",
        "colab_type": "code",
        "outputId": "e74c5dd8-d12b-4dbf-f1bf-d2fcddd9b511",
        "colab": {
          "base_uri": "https://localhost:8080/",
          "height": 222
        }
      },
      "cell_type": "code",
      "source": [
        "import pandas as pd\n",
        "discount_rate = 0.03\n",
        "cash_flows = np.array([-100, 100, 125, 150, 175])\n",
        "\n",
        "present_values = [ np.pv(rate=discount_rate, nper=i, pmt=0, fv=-x) for i,x in enumerate(cash_flows)]\n",
        "df = pd.DataFrame(dict(cash_flows=cash_flows, present_values=present_values))\n",
        "display(df)\n",
        "print('Sum of all present values: {}'.format(sum(present_values)))"
      ],
      "execution_count": 0,
      "outputs": [
        {
          "output_type": "display_data",
          "data": {
            "text/html": [
              "<div>\n",
              "<style scoped>\n",
              "    .dataframe tbody tr th:only-of-type {\n",
              "        vertical-align: middle;\n",
              "    }\n",
              "\n",
              "    .dataframe tbody tr th {\n",
              "        vertical-align: top;\n",
              "    }\n",
              "\n",
              "    .dataframe thead th {\n",
              "        text-align: right;\n",
              "    }\n",
              "</style>\n",
              "<table border=\"1\" class=\"dataframe\">\n",
              "  <thead>\n",
              "    <tr style=\"text-align: right;\">\n",
              "      <th></th>\n",
              "      <th>cash_flows</th>\n",
              "      <th>present_values</th>\n",
              "    </tr>\n",
              "  </thead>\n",
              "  <tbody>\n",
              "    <tr>\n",
              "      <th>0</th>\n",
              "      <td>-100</td>\n",
              "      <td>-100.000000</td>\n",
              "    </tr>\n",
              "    <tr>\n",
              "      <th>1</th>\n",
              "      <td>100</td>\n",
              "      <td>97.087379</td>\n",
              "    </tr>\n",
              "    <tr>\n",
              "      <th>2</th>\n",
              "      <td>125</td>\n",
              "      <td>117.824489</td>\n",
              "    </tr>\n",
              "    <tr>\n",
              "      <th>3</th>\n",
              "      <td>150</td>\n",
              "      <td>137.271249</td>\n",
              "    </tr>\n",
              "    <tr>\n",
              "      <th>4</th>\n",
              "      <td>175</td>\n",
              "      <td>155.485233</td>\n",
              "    </tr>\n",
              "  </tbody>\n",
              "</table>\n",
              "</div>"
            ],
            "text/plain": [
              "   cash_flows  present_values\n",
              "0        -100     -100.000000\n",
              "1         100       97.087379\n",
              "2         125      117.824489\n",
              "3         150      137.271249\n",
              "4         175      155.485233"
            ]
          },
          "metadata": {
            "tags": []
          }
        },
        {
          "output_type": "stream",
          "text": [
            "Sum of all present values: 407.66834957071546\n"
          ],
          "name": "stdout"
        }
      ]
    },
    {
      "metadata": {
        "id": "jeAwjFgbpxjd",
        "colab_type": "text"
      },
      "cell_type": "markdown",
      "source": [
        "##Net Present Value"
      ]
    },
    {
      "metadata": {
        "id": "q2S4QVVgmehQ",
        "colab_type": "code",
        "outputId": "6b64f544-220c-4ac1-9c58-ff4378f20cc2",
        "colab": {
          "base_uri": "https://localhost:8080/",
          "height": 35
        }
      },
      "cell_type": "code",
      "source": [
        "np.npv(rate=discount_rate, values=cash_flows)"
      ],
      "execution_count": 0,
      "outputs": [
        {
          "output_type": "execute_result",
          "data": {
            "text/plain": [
              "407.66834957071546"
            ]
          },
          "metadata": {
            "tags": []
          },
          "execution_count": 37
        }
      ]
    },
    {
      "metadata": {
        "id": "JGnkcBcImGZ9",
        "colab_type": "code",
        "outputId": "edbf7fb1-7bd7-4273-fa1a-67107c6e0191",
        "colab": {
          "base_uri": "https://localhost:8080/",
          "height": 53
        }
      },
      "cell_type": "code",
      "source": [
        "# Predefined array of cash flows\n",
        "cash_flows = np.array([100, 100, 100, 100, 100])\n",
        "\n",
        "# Calculate investment_1\n",
        "investment_1 = np.npv(rate=.03, values=cash_flows)\n",
        "print(\"Investment 1's net present value is $\" + str(round(investment_1, 2)) + \" in today's dollars\")\n",
        "\n",
        "# Calculate investment_2\n",
        "investment_2 = np.npv(rate=.05, values=cash_flows)\n",
        "print(\"Investment 2's net present value is $\" + str(round(investment_2, 2)) + \" in today's dollars\")"
      ],
      "execution_count": 0,
      "outputs": [
        {
          "output_type": "stream",
          "text": [
            "Investment 1's net present value is $471.71 in today's dollars\n",
            "Investment 2's net present value is $454.6 in today's dollars\n"
          ],
          "name": "stdout"
        }
      ]
    },
    {
      "metadata": {
        "id": "uA7mT0VdmG0R",
        "colab_type": "text"
      },
      "cell_type": "markdown",
      "source": [
        "##Comparing investments using NPV"
      ]
    },
    {
      "metadata": {
        "id": "10ZLkZFDqMfH",
        "colab_type": "code",
        "outputId": "05950649-ee22-4a92-cf9c-58911a4932c9",
        "colab": {
          "base_uri": "https://localhost:8080/",
          "height": 53
        }
      },
      "cell_type": "code",
      "source": [
        "# Create an array of cash flows for project 1\n",
        "cash_flows_1 = np.array([-250,100,200,300,400])\n",
        "\n",
        "# Create an array of cash flows for project 2\n",
        "cash_flows_2 = np.array([-250,300,-250,300,300])\n",
        "\n",
        "# Calculate the net present value of project 1\n",
        "investment_1 = np.npv(rate=.03, values=cash_flows_1)\n",
        "print(\"The net present value of Investment 1 is worth $\" + str(round(investment_1, 2)) + \" in today's dollars\")\n",
        "\n",
        "# Calculate the net present value of project 2\n",
        "investment_2 = np.npv(rate=.03, values=cash_flows_2)\n",
        "print(\"The net present value of Investment 2 is worth $\" + str(round(investment_2, 2)) + \" in today's dollars\")"
      ],
      "execution_count": 0,
      "outputs": [
        {
          "output_type": "stream",
          "text": [
            "The net present value of Investment 1 is worth $665.54 in today's dollars\n",
            "The net present value of Investment 2 is worth $346.7 in today's dollars\n"
          ],
          "name": "stdout"
        }
      ]
    },
    {
      "metadata": {
        "id": "RkjFXqrWrKT2",
        "colab_type": "text"
      },
      "cell_type": "markdown",
      "source": [
        "##Diminishing Cash Flows\n",
        "\\$100 at a 3% annual discount for 10 years\n",
        "$$ \\frac{\\$100}{(1+0.03)^{10}} = \\$74.41$$"
      ]
    },
    {
      "metadata": {
        "id": "y2n9_MR1qP9b",
        "colab_type": "code",
        "outputId": "5c06be10-9b05-4e15-af2f-466106e4bd73",
        "colab": {
          "base_uri": "https://localhost:8080/",
          "height": 71
        }
      },
      "cell_type": "code",
      "source": [
        "# Calculate investment_1\n",
        "investment_1 = np.pv(rate=.03, nper=30, pmt=0, fv=100)\n",
        "print(\"Investment 1 is worth $\" + str(round(-investment_1, 2)) + \" in today's dollars\")\n",
        "\n",
        "# Calculate investment_2\n",
        "investment_2 = np.pv(rate=.03, nper=50, pmt=0, fv=100)\n",
        "print(\"Investment 2 is worth $\" + str(round(-investment_2, 2)) + \" in today's dollars\")\n",
        "\n",
        "# Calculate investment_3\n",
        "investment_3 = np.pv(rate=.03, nper=100, pmt=0, fv=100)\n",
        "print(\"Investment 3 is worth $\" + str(round(-investment_3, 2)) + \" in today's dollars\")"
      ],
      "execution_count": 0,
      "outputs": [
        {
          "output_type": "stream",
          "text": [
            "Investment 1 is worth $41.2 in today's dollars\n",
            "Investment 2 is worth $22.81 in today's dollars\n",
            "Investment 3 is worth $5.2 in today's dollars\n"
          ],
          "name": "stdout"
        }
      ]
    },
    {
      "metadata": {
        "id": "LrbHIEACqy0r",
        "colab_type": "code",
        "colab": {}
      },
      "cell_type": "code",
      "source": [
        ""
      ],
      "execution_count": 0,
      "outputs": []
    }
  ]
}