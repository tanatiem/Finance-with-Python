{
  "nbformat": 4,
  "nbformat_minor": 0,
  "metadata": {
    "colab": {
      "name": "Making Data-Driven Financial Decisions (NPV, IRR, EAA).ipynb",
      "version": "0.3.2",
      "provenance": [],
      "include_colab_link": true
    },
    "kernelspec": {
      "name": "python3",
      "display_name": "Python 3"
    }
  },
  "cells": [
    {
      "cell_type": "markdown",
      "metadata": {
        "id": "view-in-github",
        "colab_type": "text"
      },
      "source": [
        "<a href=\"https://colab.research.google.com/github/tanatiem/Finance-with-Python/blob/master/Making%20Data-Driven%20Financial%20Decisions%20(NPV%2C%20IRR%2C%20EAA).ipynb\" target=\"_parent\"><img src=\"https://colab.research.google.com/assets/colab-badge.svg\" alt=\"Open In Colab\"/></a>"
      ]
    },
    {
      "metadata": {
        "id": "IZ-iOlo1Vjbq",
        "colab_type": "text"
      },
      "cell_type": "markdown",
      "source": [
        "#Common Profitability Analysis Methods\n",
        "- Net Present Value (NPV)\n",
        "- Internal Rate of Return (IRR)\n",
        "- Equivalent Anual Annuity (EAA)"
      ]
    },
    {
      "metadata": {
        "id": "wk9fiG8FWRvl",
        "colab_type": "text"
      },
      "cell_type": "markdown",
      "source": [
        "#Net Present Value (NPV)\n",
        "NPV is equal to the sum of all discounted cash flows:\n",
        "$$NPV = \\sum_{t=1}^{T} \\frac{C_t}{(1+r)^t} - C_0$$\n",
        "- $C_t$: Cash flow C at time t\n",
        "- r: Discount rate\n",
        "\n",
        "NPV is a simple cash flow valuation measure that does *not allow* for the comparison of different sized projects or lengths."
      ]
    },
    {
      "metadata": {
        "id": "w45DlibXXXq9",
        "colab_type": "text"
      },
      "cell_type": "markdown",
      "source": [
        "#Internal Rate of Return (IRR)\n",
        "\n",
        "The internal rate of return must be computed by solving for IRR in the NPV equation when set equal to 0\n",
        "$$NPV = \\sum_{t=1}^{T} \\frac{C_t}{(1+IRR)^t} - C_0 = 0$$\n",
        "\n",
        "- $C_t$: Cash flow C at time t\n",
        "- IRR: Internal Rate of Return\n",
        "\n",
        "IRR can be used to compare projects of different sizes and lengths but requires an algorithmic solution and does not measure total value."
      ]
    },
    {
      "metadata": {
        "id": "4pD_DQzdVnib",
        "colab_type": "code",
        "outputId": "44c4ccda-6201-457d-ae44-179b44a1229a",
        "colab": {
          "base_uri": "https://localhost:8080/",
          "height": 53
        }
      },
      "cell_type": "code",
      "source": [
        "import numpy as np\n",
        "\n",
        "# Create a numpy array of cash flows for Project 1\n",
        "cf_project_1 = np.array([-1000,200,250,300,350,400,450,500,550,600])\n",
        "\n",
        "# Create a numpy array of cash flows for Project 2\n",
        "cf_project_2 = np.array([-1000,150,225,300,375,425,500,575,600,625])\n",
        "\n",
        "# Scale the original objects by 1000x\n",
        "cf_project1 = cf_project_1 * 1000\n",
        "cf_project2 = cf_project_2 * 1000\n",
        "\n",
        "# Calculate the internal rate of return for Project 1\n",
        "irr_project1 = np.irr(cf_project1)\n",
        "print(\"Project 1 IRR: \" + str(round(100*irr_project1, 2)) + \"%\")\n",
        "\n",
        "# Calculate the internal rate of return for Project 2\n",
        "irr_project2 = np.irr(cf_project2)\n",
        "print(\"Project 2 IRR: \" + str(round(100*irr_project2, 2)) + \"%\")"
      ],
      "execution_count": 1,
      "outputs": [
        {
          "output_type": "stream",
          "text": [
            "Project 1 IRR: 28.92%\n",
            "Project 2 IRR: 28.78%\n"
          ],
          "name": "stdout"
        }
      ]
    },
    {
      "metadata": {
        "id": "XiVC6dqQVpAl",
        "colab_type": "text"
      },
      "cell_type": "markdown",
      "source": [
        "#The Weighted Average Cost of Capital (WACC)\n",
        "\n",
        "$W ACC = F_{Equity} * C_{Equity} + F_{Debt} * C_{Debt} * (1 - TR)$\n",
        "\n",
        "- $F_{Equity}$: The proportion (%) of a company's financing via equity\n",
        "- $F_{Debt}$: The proportion (%) of a company's financing via debt\n",
        "- $C_{Equity}$: The cost of a company's equity\n",
        "- $C_{Debt}$: The cost of a company's debt\n",
        "- TR: The coporate tax rate\n",
        "\n",
        "**The cost of debt** financing can be estimated as the amount you will have to pay on a new loan. This can be estimated by looking at the interest rates of loans of similar sizes to similar companies, or could be based on previous loans your company may already have been issued.\n",
        "\n",
        "**The cost of equity** financing can be estimated as the return on equity of similar companies. Calculating the return on equity is a simple accounting exercise, but all you need to know is that essentially, investors will require a rate of return that is close to what could be earned by a similar investment."
      ]
    },
    {
      "metadata": {
        "id": "prCC9bDOaH2A",
        "colab_type": "text"
      },
      "cell_type": "markdown",
      "source": [
        "## Proportion of Financing\n",
        "\n",
        "$F_{Equity} = \\frac{M_{Equity}}{M_{Total}}$\n",
        "\n",
        "$F_{Debt} = \\frac{M_{Debt}}{M_{Total}}$\n",
        "\n",
        "$M_{Total} = M_{Debt} + M_{Equity}$\n",
        "\n",
        "- $M_{Debt}$: Market value of a company's debt\n",
        "- $M_{Equity}$: Market value of a company's equity\n",
        "- $M_{Total}$: Total value of a company's financing"
      ]
    },
    {
      "metadata": {
        "id": "6NOq5jzaZo7Y",
        "colab_type": "text"
      },
      "cell_type": "markdown",
      "source": [
        "##Calculating WACC\n",
        "\n",
        "For this example, assume you take out a 1,000,000 loan to finance the project, which will be your company's only outstanding debt, which will represent 50% of your company's total financing of 2,000,000. The remaining funding comes from the market value of equity."
      ]
    },
    {
      "metadata": {
        "id": "OKE_NEMKa4Fh",
        "colab_type": "code",
        "outputId": "694ac627-70fe-4a0a-ee52-b5e0daa0f864",
        "colab": {
          "base_uri": "https://localhost:8080/",
          "height": 71
        }
      },
      "cell_type": "code",
      "source": [
        "# Set the market value of debt\n",
        "mval_debt = 1000000\n",
        "\n",
        "# Set the market value of equity\n",
        "mval_equity = 1000000\n",
        "\n",
        "# Compute the total market value of your company's financing\n",
        "mval_total = mval_debt + mval_equity\n",
        "\n",
        "# Compute the proportion of your company's financing via debt\n",
        "percent_debt = mval_debt / mval_total\n",
        "print(\"Debt Financing: \" + str(round(100*percent_debt, 2)) + \"%\")\n",
        "\n",
        "# Compute the proportion of your company's financing via equity\n",
        "percent_equity = mval_equity / mval_total\n",
        "print(\"Equity Financing: \" + str(round(100*percent_equity, 2)) + \"%\")\n",
        "\n",
        "# Assume a cost of equity of 18% based on similar companies\n",
        "cost_equity = 0.18\n",
        "\n",
        "# The bank is willing to lend at an interest rate of 12%\n",
        "cost_debt = 0.12\n",
        "\n",
        "# Assume a corporate tax rate of 35% and that your debt financing is tax-deductible\n",
        "tax_rate = 0.35\n",
        "\n",
        "# Calculate the WACC\n",
        "wacc = percent_equity*cost_equity + percent_debt*cost_debt*(1-tax_rate)\n",
        "print(\"WACC: \" + str(round(100*wacc, 2)) + \"%\")"
      ],
      "execution_count": 2,
      "outputs": [
        {
          "output_type": "stream",
          "text": [
            "Debt Financing: 50.0%\n",
            "Equity Financing: 50.0%\n",
            "WACC: 12.9%\n"
          ],
          "name": "stdout"
        }
      ]
    },
    {
      "metadata": {
        "id": "dGoV8jfabFHD",
        "colab_type": "text"
      },
      "cell_type": "markdown",
      "source": [
        "##Comparing Project NPV with IRR\n",
        "\n",
        "Companies use their WACC as the discount rate when calculating the net present value of potential projects.\n",
        "\n",
        "In the same way that you discounted values by inflation to account for costs over time, companies adjust the cash flows of potential projects by their cost of financing, the WACC, to account for their investor's required rate of return based on market conditions."
      ]
    },
    {
      "metadata": {
        "id": "nHZCd8BSccZn",
        "colab_type": "code",
        "outputId": "6bd20d2b-8ef4-4ddb-afc9-915369aab90d",
        "colab": {
          "base_uri": "https://localhost:8080/",
          "height": 53
        }
      },
      "cell_type": "code",
      "source": [
        "# Set your weighted average cost of capital equal to 12.9%\n",
        "wacc = 0.129\n",
        "\n",
        "# Calculate the net present value for Project 1\n",
        "npv_project1 = np.npv(wacc, cf_project1)\n",
        "print(\"Project 1 NPV: \" + str(round(npv_project1, 2)))\n",
        "\n",
        "# Calculate the net present value for Project 2\n",
        "npv_project2 = np.npv(wacc, cf_project2)\n",
        "print(\"Project 2 NPV: \" + str(round(npv_project2, 2)))"
      ],
      "execution_count": 3,
      "outputs": [
        {
          "output_type": "stream",
          "text": [
            "Project 1 NPV: 856073.18\n",
            "Project 2 NPV: 904741.35\n"
          ],
          "name": "stdout"
        }
      ]
    },
    {
      "metadata": {
        "id": "ouyrOdkySqhl",
        "colab_type": "text"
      },
      "cell_type": "markdown",
      "source": [
        "# Comparing Two Projects of Different Life Spans\n",
        "\n",
        "**Equivalent Annual Annuity** (EAA) can be used to compare two projects of different lifespans in present value terms"
      ]
    },
    {
      "metadata": {
        "id": "CYO9f7RiTKKt",
        "colab_type": "code",
        "colab": {
          "base_uri": "https://localhost:8080/",
          "height": 107
        },
        "outputId": "9cd906ca-3a42-492c-9710-583006025926"
      },
      "cell_type": "code",
      "source": [
        "# Project 1: 3-year lifespan\n",
        "# Project 2: 8-year lifespan\n",
        "disc = 0.05\n",
        "cf1 = [-100,200,300]\n",
        "cf2 = [-125,100,100,100,100,100,100,100]\n",
        "\n",
        "npv1 = np.npv(disc, cf1)\n",
        "npv2 = np.npv(disc, cf2)\n",
        "\n",
        "irr1 = np.irr(cf1)\n",
        "irr2 = np.irr(cf2)\n",
        "\n",
        "print('Project #1 NPV: {:.2f}, IRR: {:.2f}%'.format(npv1, irr1*100))\n",
        "print('Project #2 NPV: {:.2f}, IRR: {:.2f}%'.format(npv2, irr2*100))\n",
        "\n",
        "#Compute EAA\n",
        "eaa1 = np.pmt(rate=disc, nper=3, pv=-1*npv1, fv=0)\n",
        "eaa2 = np.pmt(rate=disc, nper=8, pv=-1*npv2, fv=0)\n",
        "print('\\nProject #1 EAA: {:.2f}'.format(eaa1))\n",
        "print('Project #2 EAA: {:.2f}'.format(eaa2))"
      ],
      "execution_count": 22,
      "outputs": [
        {
          "output_type": "stream",
          "text": [
            "Project #1 NPV: 362.59, IRR: 200.00%\n",
            "Project #2 NPV: 453.64, IRR: 78.62%\n",
            "\n",
            "Project #1 EAA: 133.14\n",
            "Project #2 EAA: 70.19\n"
          ],
          "name": "stdout"
        }
      ]
    },
    {
      "metadata": {
        "id": "plSU_dP5VKSV",
        "colab_type": "code",
        "colab": {
          "base_uri": "https://localhost:8080/",
          "height": 161
        },
        "outputId": "82d73e7f-3c29-4f98-9b9f-6040062ceb00"
      },
      "cell_type": "code",
      "source": [
        "import numpy as np\n",
        "\n",
        "# Create a numpy array of cash flows for Project 1\n",
        "cf_project_1 = np.array([-700,100,150,200,250,300,350,400])\n",
        "\n",
        "# Create a numpy array of cash flows for Project 2\n",
        "cf_project_2 = np.array([-400,50,100,150,200,250,300])\n",
        "\n",
        "# Scale the original objects by 1000x\n",
        "cf_project1 = cf_project_1 * 1000\n",
        "cf_project2 = cf_project_2 * 1000\n",
        "\n",
        "# Calculate the IRR for Project 1\n",
        "irr_project1 = np.irr(cf_project1)\n",
        "print(\"Project 1 IRR: \" + str(round(100*irr_project1, 2)) + \"%\")\n",
        "\n",
        "# Calculate the IRR for Project 2\n",
        "irr_project2 = np.irr(cf_project2)\n",
        "print(\"Project 2 IRR: \" + str(round(100*irr_project2, 2)) + \"%\")\n",
        "\n",
        "# Set the wacc equal to 12.9%\n",
        "wacc = 0.129\n",
        "\n",
        "# Calculate the NPV for Project 1\n",
        "npv_project1 = np.npv(rate=wacc, values=cf_project1)\n",
        "print(\"\\nProject 1 NPV: \" + str(round(npv_project1, 2)))\n",
        "\n",
        "# Calculate the NPV for Project 2\n",
        "npv_project2 = np.npv(rate=wacc, values=cf_project2)\n",
        "print(\"Project 2 NPV: \" + str(round(npv_project2, 2)))\n",
        "\n",
        "# Calculate the EAA for Project 1\n",
        "eaa_project1 = np.pmt(rate=wacc, nper=8, pv=-1*npv_project1, fv=0)\n",
        "print(\"\\nProject 1 EAA: \" + str(round(eaa_project1, 2)))\n",
        "\n",
        "# Calculate the EAA for Project 2\n",
        "eaa_project2 = np.pmt(rate=wacc, nper=7, pv=-1*npv_project2, fv=0)\n",
        "print(\"Project 2 EAA: \" + str(round(eaa_project2, 2)))"
      ],
      "execution_count": 23,
      "outputs": [
        {
          "output_type": "stream",
          "text": [
            "Project 1 IRR: 22.94%\n",
            "Project 2 IRR: 26.89%\n",
            "\n",
            "Project 1 NPV: 302744.98\n",
            "Project 2 NPV: 231228.39\n",
            "\n",
            "Project 1 EAA: 62872.2\n",
            "Project 2 EAA: 52120.61\n"
          ],
          "name": "stdout"
        }
      ]
    },
    {
      "metadata": {
        "id": "TCcDMG2oYD5_",
        "colab_type": "text"
      },
      "cell_type": "markdown",
      "source": [
        "Then Project 1 should be picked."
      ]
    }
  ]
}