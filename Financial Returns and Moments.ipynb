{
 "cells": [
  {
   "cell_type": "markdown",
   "metadata": {},
   "source": [
    "# Financial Returns"
   ]
  },
  {
   "cell_type": "markdown",
   "metadata": {},
   "source": [
    "## Returns Calculation and Distribution"
   ]
  },
  {
   "cell_type": "code",
   "execution_count": 184,
   "metadata": {},
   "outputs": [
    {
     "name": "stdout",
     "output_type": "stream",
     "text": [
      "<class 'pandas.core.frame.DataFrame'>\n",
      "RangeIndex: 4561 entries, 0 to 4560\n",
      "Data columns (total 7 columns):\n",
      "Date        4561 non-null datetime64[ns]\n",
      "Open        4561 non-null float64\n",
      "High        4561 non-null float64\n",
      "Low         4561 non-null float64\n",
      "Close       4561 non-null float64\n",
      "Volume      4561 non-null int64\n",
      "Adjusted    4561 non-null float64\n",
      "dtypes: datetime64[ns](1), float64(5), int64(1)\n",
      "memory usage: 249.5 KB\n"
     ]
    }
   ],
   "source": [
    "import pandas as pd\n",
    "import numpy as np\n",
    "import matplotlib.pyplot as plt\n",
    "\n",
    "filepath = 'https://s3.amazonaws.com/assets.datacamp.com/production/course_6836/datasets/MSFTPrices.csv'\n",
    "\n",
    "StockPrices = pd.read_csv(filepath, parse_dates=['Date'])\n",
    "StockPrices.info()"
   ]
  },
  {
   "cell_type": "code",
   "execution_count": 185,
   "metadata": {},
   "outputs": [
    {
     "data": {
      "text/html": [
       "<div>\n",
       "<style scoped>\n",
       "    .dataframe tbody tr th:only-of-type {\n",
       "        vertical-align: middle;\n",
       "    }\n",
       "\n",
       "    .dataframe tbody tr th {\n",
       "        vertical-align: top;\n",
       "    }\n",
       "\n",
       "    .dataframe thead th {\n",
       "        text-align: right;\n",
       "    }\n",
       "</style>\n",
       "<table border=\"1\" class=\"dataframe\">\n",
       "  <thead>\n",
       "    <tr style=\"text-align: right;\">\n",
       "      <th></th>\n",
       "      <th>Date</th>\n",
       "      <th>Open</th>\n",
       "      <th>High</th>\n",
       "      <th>Low</th>\n",
       "      <th>Close</th>\n",
       "      <th>Volume</th>\n",
       "      <th>Adjusted</th>\n",
       "    </tr>\n",
       "  </thead>\n",
       "  <tbody>\n",
       "    <tr>\n",
       "      <th>0</th>\n",
       "      <td>2000-01-03</td>\n",
       "      <td>88.777</td>\n",
       "      <td>89.722</td>\n",
       "      <td>84.712</td>\n",
       "      <td>58.28125</td>\n",
       "      <td>53228400</td>\n",
       "      <td>38.527809</td>\n",
       "    </tr>\n",
       "    <tr>\n",
       "      <th>1</th>\n",
       "      <td>2000-01-04</td>\n",
       "      <td>85.893</td>\n",
       "      <td>88.588</td>\n",
       "      <td>84.901</td>\n",
       "      <td>56.31250</td>\n",
       "      <td>54119000</td>\n",
       "      <td>37.226345</td>\n",
       "    </tr>\n",
       "    <tr>\n",
       "      <th>2</th>\n",
       "      <td>2000-01-05</td>\n",
       "      <td>84.050</td>\n",
       "      <td>88.021</td>\n",
       "      <td>82.726</td>\n",
       "      <td>56.90625</td>\n",
       "      <td>64059600</td>\n",
       "      <td>37.618851</td>\n",
       "    </tr>\n",
       "    <tr>\n",
       "      <th>3</th>\n",
       "      <td>2000-01-06</td>\n",
       "      <td>84.853</td>\n",
       "      <td>86.130</td>\n",
       "      <td>81.970</td>\n",
       "      <td>55.00000</td>\n",
       "      <td>54976600</td>\n",
       "      <td>36.358688</td>\n",
       "    </tr>\n",
       "    <tr>\n",
       "      <th>4</th>\n",
       "      <td>2000-01-07</td>\n",
       "      <td>82.159</td>\n",
       "      <td>84.901</td>\n",
       "      <td>81.166</td>\n",
       "      <td>55.71875</td>\n",
       "      <td>62013600</td>\n",
       "      <td>36.833828</td>\n",
       "    </tr>\n",
       "  </tbody>\n",
       "</table>\n",
       "</div>"
      ],
      "text/plain": [
       "        Date    Open    High     Low     Close    Volume   Adjusted\n",
       "0 2000-01-03  88.777  89.722  84.712  58.28125  53228400  38.527809\n",
       "1 2000-01-04  85.893  88.588  84.901  56.31250  54119000  37.226345\n",
       "2 2000-01-05  84.050  88.021  82.726  56.90625  64059600  37.618851\n",
       "3 2000-01-06  84.853  86.130  81.970  55.00000  54976600  36.358688\n",
       "4 2000-01-07  82.159  84.901  81.166  55.71875  62013600  36.833828"
      ]
     },
     "execution_count": 185,
     "metadata": {},
     "output_type": "execute_result"
    }
   ],
   "source": [
    "StockPrices.head()"
   ]
  },
  {
   "cell_type": "code",
   "execution_count": 186,
   "metadata": {},
   "outputs": [
    {
     "data": {
      "text/html": [
       "<div>\n",
       "<style scoped>\n",
       "    .dataframe tbody tr th:only-of-type {\n",
       "        vertical-align: middle;\n",
       "    }\n",
       "\n",
       "    .dataframe tbody tr th {\n",
       "        vertical-align: top;\n",
       "    }\n",
       "\n",
       "    .dataframe thead th {\n",
       "        text-align: right;\n",
       "    }\n",
       "</style>\n",
       "<table border=\"1\" class=\"dataframe\">\n",
       "  <thead>\n",
       "    <tr style=\"text-align: right;\">\n",
       "      <th></th>\n",
       "      <th>Date</th>\n",
       "      <th>Open</th>\n",
       "      <th>High</th>\n",
       "      <th>Low</th>\n",
       "      <th>Close</th>\n",
       "      <th>Volume</th>\n",
       "      <th>Adjusted</th>\n",
       "      <th>Returns</th>\n",
       "    </tr>\n",
       "  </thead>\n",
       "  <tbody>\n",
       "    <tr>\n",
       "      <th>0</th>\n",
       "      <td>2000-01-03</td>\n",
       "      <td>88.777</td>\n",
       "      <td>89.722</td>\n",
       "      <td>84.712</td>\n",
       "      <td>58.28125</td>\n",
       "      <td>53228400</td>\n",
       "      <td>38.527809</td>\n",
       "      <td>NaN</td>\n",
       "    </tr>\n",
       "    <tr>\n",
       "      <th>1</th>\n",
       "      <td>2000-01-04</td>\n",
       "      <td>85.893</td>\n",
       "      <td>88.588</td>\n",
       "      <td>84.901</td>\n",
       "      <td>56.31250</td>\n",
       "      <td>54119000</td>\n",
       "      <td>37.226345</td>\n",
       "      <td>-0.033780</td>\n",
       "    </tr>\n",
       "    <tr>\n",
       "      <th>2</th>\n",
       "      <td>2000-01-05</td>\n",
       "      <td>84.050</td>\n",
       "      <td>88.021</td>\n",
       "      <td>82.726</td>\n",
       "      <td>56.90625</td>\n",
       "      <td>64059600</td>\n",
       "      <td>37.618851</td>\n",
       "      <td>0.010544</td>\n",
       "    </tr>\n",
       "    <tr>\n",
       "      <th>3</th>\n",
       "      <td>2000-01-06</td>\n",
       "      <td>84.853</td>\n",
       "      <td>86.130</td>\n",
       "      <td>81.970</td>\n",
       "      <td>55.00000</td>\n",
       "      <td>54976600</td>\n",
       "      <td>36.358688</td>\n",
       "      <td>-0.033498</td>\n",
       "    </tr>\n",
       "    <tr>\n",
       "      <th>4</th>\n",
       "      <td>2000-01-07</td>\n",
       "      <td>82.159</td>\n",
       "      <td>84.901</td>\n",
       "      <td>81.166</td>\n",
       "      <td>55.71875</td>\n",
       "      <td>62013600</td>\n",
       "      <td>36.833828</td>\n",
       "      <td>0.013068</td>\n",
       "    </tr>\n",
       "  </tbody>\n",
       "</table>\n",
       "</div>"
      ],
      "text/plain": [
       "        Date    Open    High     Low     Close    Volume   Adjusted   Returns\n",
       "0 2000-01-03  88.777  89.722  84.712  58.28125  53228400  38.527809       NaN\n",
       "1 2000-01-04  85.893  88.588  84.901  56.31250  54119000  37.226345 -0.033780\n",
       "2 2000-01-05  84.050  88.021  82.726  56.90625  64059600  37.618851  0.010544\n",
       "3 2000-01-06  84.853  86.130  81.970  55.00000  54976600  36.358688 -0.033498\n",
       "4 2000-01-07  82.159  84.901  81.166  55.71875  62013600  36.833828  0.013068"
      ]
     },
     "execution_count": 186,
     "metadata": {},
     "output_type": "execute_result"
    }
   ],
   "source": [
    "StockPrices['Returns'] = StockPrices['Adjusted'].pct_change()\n",
    "StockPrices.head()"
   ]
  },
  {
   "cell_type": "code",
   "execution_count": 187,
   "metadata": {},
   "outputs": [
    {
     "data": {
      "image/png": "[encoded data removed]",
      "text/plain": [
       "<Figure size 432x288 with 1 Axes>"
      ]
     },
     "metadata": {},
     "output_type": "display_data"
    }
   ],
   "source": [
    "StockPrices['Returns'].dropna().hist(bins=75);"
   ]
  },
  {
   "cell_type": "markdown",
   "metadata": {},
   "source": [
    "# Moments of Distributions\n",
    "- Mean ($\\mu$)\n",
    "- Variance ($\\sigma^2$)\n",
    "- Skewness\n",
    "- Kurtosis\n",
    "\n",
    "### The Normal Distribution\n",
    "There are many types of distributions. Some are normal and some are non-normal. A random variable with a **Gaussian distribution** is said to be normally distributed.\n",
    "\n",
    "Normal Distributions have the following properties:\n",
    "- Mean = ($\\mu$)\n",
    "- Variance ($\\sigma^2$)\n",
    "- Skewness = 0\n",
    "- Kurtosis = 3\n",
    "\n",
    "### The Standard Normal Distribution\n",
    "- $\\sigma = 1$\n",
    "- $\\mu = 0$\n",
    "\n",
    "### Comparing against a Normal Distribution\n",
    "- Normal distributions have a skewness near 0 and a kurtosis near 3.\n",
    "- Financial returns tend not to be normally distributed\n",
    "- Financial returns can have high kurtosis"
   ]
  },
  {
   "cell_type": "code",
   "execution_count": 188,
   "metadata": {},
   "outputs": [
    {
     "name": "stdout",
     "output_type": "stream",
     "text": [
      "Average Daily Return: 0.0003777754643575774\n",
      "Annualized Average Return: 0.09985839482858783\n"
     ]
    }
   ],
   "source": [
    "# Calculate the average daily return of the stock\n",
    "mean_return_daily = np.mean(StockPrices['Returns'])\n",
    "print('Average Daily Return: {}'.format(mean_return_daily))\n",
    "\n",
    "# Calculate the implied annualized average return\n",
    "mean_return_annualized = ((1+mean_return_daily)**252)-1\n",
    "print('Annualized Average Return: {}'.format(mean_return_annualized))"
   ]
  },
  {
   "cell_type": "markdown",
   "metadata": {},
   "source": [
    "### Standard Deviation (Volatility)\n",
    "- $\\sigma$ or referred to as *volatility*\n",
    "- Variance = $\\sigma^2$\n",
    "- An investment with higher volatility is viewed as a higher risk investment\n",
    "- Measures the dispersion of returns\n",
    "\n",
    "![](img/normal-dist1.png)\n",
    "![](img/normal-dist2.png)"
   ]
  },
  {
   "cell_type": "code",
   "execution_count": 189,
   "metadata": {},
   "outputs": [
    {
     "name": "stdout",
     "output_type": "stream",
     "text": [
      "Standard Deviation: 0.019341100408708317\n",
      "Variance: 0.00037407816501973704\n"
     ]
    }
   ],
   "source": [
    "# Calculate the standard deviation of daily return of the stock\n",
    "sigma_daily = np.std(StockPrices['Returns'])\n",
    "print('Standard Deviation: {}'.format(sigma_daily))\n",
    "\n",
    "# Calculate the daily variance\n",
    "variance_daily = sigma_daily**2\n",
    "print('Variance: {}'.format(variance_daily))"
   ]
  },
  {
   "cell_type": "markdown",
   "metadata": {},
   "source": [
    "### Scaling Volatility\n",
    "- Volatility scales with the square root of time\n",
    "- Typically asuume 252 trading days in a given year, and 21 trading days in a given month.\n",
    "\n",
    "$\\sigma_{Annual} = \\sigma_{Daily} * \\sqrt{252}$\n",
    "\n",
    "$\\sigma_{Monthly} = \\sigma_{Daily} * \\sqrt{21}$"
   ]
  },
  {
   "cell_type": "code",
   "execution_count": 190,
   "metadata": {},
   "outputs": [
    {
     "name": "stdout",
     "output_type": "stream",
     "text": [
      "Annualized Standard Deviation: 0.3070304505826315\n",
      "Annualized Variance: 0.09426769758497373\n"
     ]
    }
   ],
   "source": [
    "# Annualize the standard deviation\n",
    "sigma_annualized = sigma_daily*np.sqrt(252)\n",
    "print('Annualized Standard Deviation: {}'.format(sigma_annualized))\n",
    "\n",
    "# Calculate the annualized variance\n",
    "variance_annualized = sigma_annualized ** 2\n",
    "print('Annualized Variance: {}'.format(variance_annualized))"
   ]
  },
  {
   "cell_type": "code",
   "execution_count": 191,
   "metadata": {},
   "outputs": [
    {
     "data": {
      "image/png": "[encoded data removed]",
      "text/plain": [
       "<Figure size 432x288 with 1 Axes>"
      ]
     },
     "metadata": {},
     "output_type": "display_data"
    }
   ],
   "source": [
    "plt.plot(sigma_daily*np.sqrt(np.arange(0, 252)))\n",
    "plt.xlabel('Time')\n",
    "plt.ylabel('Scaled Volatility')\n",
    "plt.title('Daily Volatility Scaled Over Time');"
   ]
  },
  {
   "cell_type": "markdown",
   "metadata": {},
   "source": [
    "## Skewness\n",
    "- **Negative Skew:** right-leaning curve\n",
    "- **Positive Skew:** left-learning curve\n",
    "- In finance, you would tend to want positive skewness\n",
    "\n",
    "The difference in the length and fatness of the tails depending on the skewness"
   ]
  },
  {
   "cell_type": "code",
   "execution_count": 192,
   "metadata": {},
   "outputs": [
    {
     "data": {
      "image/png": "[encoded data removed]",
      "text/plain": [
       "<Figure size 864x432 with 4 Axes>"
      ]
     },
     "metadata": {},
     "output_type": "display_data"
    }
   ],
   "source": [
    "from scipy.stats import skew, skewnorm\n",
    "\n",
    "fig, ax = plt.subplots(2, 2, figsize=(12,6))\n",
    "\n",
    "a = -2\n",
    "x = np.linspace(skewnorm.ppf(0.0014,a), skewnorm.ppf(0.9986,a),100)\n",
    "ax[0,0].plot(x, skewnorm.pdf(x,a), 'r-')\n",
    "ax[0,0].set_title('Negative Skew (skewness=-2)')\n",
    "\n",
    "a = 2\n",
    "x = np.linspace(skewnorm.ppf(0.0014,a), skewnorm.ppf(0.9986,a),100)\n",
    "ax[0,1].plot(x, skewnorm.pdf(x,a), 'r-')\n",
    "ax[0,1].set_title('Positive Skew (skewness=2)');\n",
    "\n",
    "a = -5\n",
    "x = np.linspace(skewnorm.ppf(0.0014,a), skewnorm.ppf(0.9986,a),100)\n",
    "ax[1,0].plot(x, skewnorm.pdf(x,a), 'r-')\n",
    "ax[1,0].set_title('Negative Skew (skewness=-5)')\n",
    "\n",
    "a = 5\n",
    "x = np.linspace(skewnorm.ppf(0.0014,a), skewnorm.ppf(0.9986,a),100)\n",
    "ax[1,1].plot(x, skewnorm.pdf(x,a), 'r-')\n",
    "ax[1,1].set_title('Positive Skew (skewness=5)')\n",
    "\n",
    "plt.tight_layout()"
   ]
  },
  {
   "cell_type": "markdown",
   "metadata": {},
   "source": [
    "scipy.stats.skew() to compute the skewness. The skewness being higher than 0 suggests non-normality."
   ]
  },
  {
   "cell_type": "code",
   "execution_count": 193,
   "metadata": {},
   "outputs": [
    {
     "data": {
      "text/plain": [
       "0.21935459193067852"
      ]
     },
     "execution_count": 193,
     "metadata": {},
     "output_type": "execute_result"
    }
   ],
   "source": [
    "skew(StockPrices['Returns'].dropna())"
   ]
  },
  {
   "cell_type": "markdown",
   "metadata": {},
   "source": [
    "## Kurtosis\n",
    "Kurtosis is a measure of the thickness of the tails of a distribution\n",
    "- Most financial returns are *leptokurtic*\n",
    "- **Leptokurtic:** When a distribution has positive *excess kurtosis* (kurtosis > 3)\n",
    "- **Excess Kurtosis:** Subtract 3 from the sample kurtosis to get Excess Kurtosis\n",
    "- If excess kurtosis is higher than 0, then kurtosis is higher than a normal distribution.\n",
    "- In finance, high excess kurtosis = high risk. When large movements in returns happen often, this can be a bad thing for a portfolio if it moves in a wrong direction.\n",
    "- High kurtosis distributions are said to have \"thick tails\", which means that outliers, such as extreme negative and positive returns, are more common.\n",
    "\n",
    "Since Kurtosis is mostly compared to a normal distribution, many functions in Python will automatically return Excess Kurtosis.\n",
    "\n"
   ]
  },
  {
   "cell_type": "code",
   "execution_count": 194,
   "metadata": {},
   "outputs": [
    {
     "data": {
      "image/png": "[encoded data removed]",
      "text/plain": [
       "<Figure size 432x288 with 1 Axes>"
      ]
     },
     "metadata": {},
     "output_type": "display_data"
    }
   ],
   "source": [
    "from statsmodels.graphics.gofplots import qqplot\n",
    "\n",
    "qqplot(StockPrices['Returns'].dropna(), line='s')\n",
    "plt.show()"
   ]
  },
  {
   "cell_type": "markdown",
   "metadata": {},
   "source": [
    "Comparing with theoretical quantiles of Normal Distribution. The quantiles diverge on both tails of the distribution. The divergence near the tails is an example of kurtosis."
   ]
  },
  {
   "cell_type": "code",
   "execution_count": 195,
   "metadata": {},
   "outputs": [
    {
     "name": "stdout",
     "output_type": "stream",
     "text": [
      "Excess kurtosis: 10.31457261802553\n",
      "True kurtosis: 13.31457261802553\n"
     ]
    }
   ],
   "source": [
    "# Import kurtosis from scipy.stats\n",
    "from scipy.stats import kurtosis\n",
    "\n",
    "# Calculate the excess kurtosis of the returns distribution\n",
    "excess_kurtosis = kurtosis(StockPrices['Returns'].dropna())\n",
    "print('Excess kurtosis: {}'.format(excess_kurtosis))\n",
    "\n",
    "# Derive the true fourth moment of the returns distribution\n",
    "true_kurtosis = excess_kurtosis + 3\n",
    "print('True kurtosis: {}'.format(true_kurtosis))"
   ]
  },
  {
   "cell_type": "markdown",
   "metadata": {},
   "source": [
    "### Testing for Normality in Python\n",
    "\n",
    "If the kurtosis is greater than 3, and skewness is non-zero, the data is most likely non-normal.\n",
    "\n",
    "You can use the **Shapiro-Wilk statistical test** to estimate the probability that the data is normally distributed.\n",
    "\n",
    "The null hypothesis of the **Shapiro-Wilk test** is that the data are normally distributed.\n",
    "\n",
    "scipy.stats.shapiro() returns two values\n",
    "- t-stat of the test\n",
    "- p-value"
   ]
  },
  {
   "cell_type": "code",
   "execution_count": 196,
   "metadata": {},
   "outputs": [
    {
     "name": "stdout",
     "output_type": "stream",
     "text": [
      "Shapiro results: (0.9003633260726929, 0.0)\n",
      "P-value:  0.0\n",
      "Null hypothesis of normality is rejected.\n"
     ]
    }
   ],
   "source": [
    "# Import shapiro from scipy.stats\n",
    "from scipy.stats import shapiro\n",
    "\n",
    "# Run the Shapiro-Wilk test on the stock returns\n",
    "shapiro_results = shapiro(StockPrices['Returns'].dropna())\n",
    "print(\"Shapiro results:\", shapiro_results)\n",
    "\n",
    "# Extract the p-value from the shapiro_results\n",
    "p_value = shapiro_results[1]\n",
    "print(\"P-value: \", p_value)\n",
    "\n",
    "if p_value <= 0.05:\n",
    "    print('Null hypothesis of normality is rejected.')\n",
    "else:\n",
    "    print('Null hypothesis of normality is accepted.')"
   ]
  }
 ],
 "metadata": {
  "kernelspec": {
   "display_name": "Python 3",
   "language": "python",
   "name": "python3"
  },
  "language_info": {
   "codemirror_mode": {
    "name": "ipython",
    "version": 3
   },
   "file_extension": ".py",
   "mimetype": "text/x-python",
   "name": "python",
   "nbconvert_exporter": "python",
   "pygments_lexer": "ipython3",
   "version": "3.7.0"
  }
 },
 "nbformat": 4,
 "nbformat_minor": 2
}
